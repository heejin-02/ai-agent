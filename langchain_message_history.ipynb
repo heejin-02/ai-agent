{
 "cells": [
  {
   "cell_type": "code",
   "execution_count": null,
   "id": "9f835831",
   "metadata": {},
   "outputs": [
    {
     "ename": "NameError",
     "evalue": "name 'BaseChatMessageHistory' is not defined",
     "output_type": "error",
     "traceback": [
      "\u001b[1;31m---------------------------------------------------------------------------\u001b[0m",
      "\u001b[1;31mNameError\u001b[0m                                 Traceback (most recent call last)",
      "Cell \u001b[1;32mIn[2], line 11\u001b[0m\n\u001b[0;32m      8\u001b[0m store \u001b[38;5;241m=\u001b[39m {} \u001b[38;5;66;03m#session id 기준으로 사용자의 대화 기록하는 딕셔너리\u001b[39;00m\n\u001b[0;32m     10\u001b[0m \u001b[38;5;66;03m# 세션 아이디에 따라 대화 기록 가져오는 함수\u001b[39;00m\n\u001b[1;32m---> 11\u001b[0m \u001b[38;5;28;01mdef\u001b[39;00m\u001b[38;5;250m \u001b[39m\u001b[38;5;21mget_session_history\u001b[39m(session_id: \u001b[38;5;28mstr\u001b[39m) \u001b[38;5;241m-\u001b[39m\u001b[38;5;241m>\u001b[39m \u001b[43mBaseChatMessageHistory\u001b[49m:\n\u001b[0;32m     12\u001b[0m     \u001b[38;5;66;03m# 세션 아이디 없으면 새로 생성하기\u001b[39;00m\n\u001b[0;32m     13\u001b[0m     \u001b[38;5;28;01mif\u001b[39;00m session_id \u001b[38;5;129;01mnot\u001b[39;00m \u001b[38;5;129;01min\u001b[39;00m store:\n\u001b[0;32m     14\u001b[0m         store[session_id] \u001b[38;5;241m=\u001b[39m InMemoryChatMessageHistory() \u001b[38;5;66;03m# 메모리에 대화 기록을 저장하는 객체 생성\u001b[39;00m\n",
      "\u001b[1;31mNameError\u001b[0m: name 'BaseChatMessageHistory' is not defined"
     ]
    }
   ],
   "source": [
    "from langchain_core.chat_history import InMemoryChatMessageHistory, BaseChatMessageHistory\n",
    "from langchain_core.runnables.history import RunnableWithMessageHistory\n",
    "from langchain_openai import ChatOpenAI\n",
    "from langchain_core.messages import HumanMessage\n",
    "\n",
    "model = ChatOpenAI(model=\"gpt-4o-mini\")\n",
    "\n",
    "store = {} #session id 기준으로 사용자의 대화 기록하는 딕셔너리\n",
    "\n",
    "# 세션 아이디에 따라 대화 기록 가져오는 함수\n",
    "def get_session_history(session_id: str) -> BaseChatMessageHistory:\n",
    "    # 세션 아이디 없으면 새로 생성하기\n",
    "    if session_id not in store:\n",
    "        store[session_id] = InMemoryChatMessageHistory() # 메모리에 대화 기록을 저장하는 객체 생성\n",
    "    return store[session_id] # 세션 아이디에 해당하는 대화 기록 반환\n",
    "\n",
    "# 모델 실행 시 대화 기록 함께 전달하는 래퍼 객체 생성\n",
    "with_message_history = RunnnableWithMessageHistory(model, get_session_history)"
   ]
  }
 ],
 "metadata": {
  "kernelspec": {
   "display_name": "venv",
   "language": "python",
   "name": "python3"
  },
  "language_info": {
   "codemirror_mode": {
    "name": "ipython",
    "version": 3
   },
   "file_extension": ".py",
   "mimetype": "text/x-python",
   "name": "python",
   "nbconvert_exporter": "python",
   "pygments_lexer": "ipython3",
   "version": "3.10.8"
  }
 },
 "nbformat": 4,
 "nbformat_minor": 5
}
