{
 "cells": [
  {
   "cell_type": "code",
   "execution_count": null,
   "id": "983fe3da",
   "metadata": {},
   "outputs": [
    {
     "data": {
      "text/plain": [
       "AIMessage(content='안녕 희진아, 고민을 나눠줘서 고마워. 걱정이 많다는 건 정말 힘든 일이니까, 함께 해결해보자.\\n\\n1. **걱정의 원인 파악하기**: 어떤 걱정을 가장 많이 하고 있는지 적어보세요. 구체적으로 써보면, 걱정이 얼마나 현실적인지, 지나친 걱정인지 더 잘 알 수 있어요.\\n\\n2. **우선순위 정하기**: 걱정하는 것들 중에서 가장 중요한 것과 덜 중요한 것을 나눠보세요. 우리에게 더 큰 영향을 미치는 걱정부터 해결해 나가는 것이 좋습니다.\\n\\n3. **실천 가능한 목표 세우기**: 걱정의 원인을 해결하기 위해 실질적인 행동을 계획하세요. 예를 들어, 특정한 문제에 대해 알아보거나, 대화를 통해 다른 사람의 조언을 들어보는 것도 좋은 방법이에요.\\n\\n4. **마음 챙김 연습하기**: 요가, 명상, 깊은 호흡 운동 등 마음을 진정시키는 활동을 해보세요. 이는 불안감을 줄이는 데 도움을 줍니다.\\n\\n5. **하루에 걱정할 시간 정하기**: 특정 시간을 정해서 그 시간동안만 걱정하는 연습을 해보세요. 그렇게 하면 일상 속에서 걱정을 덜 수 있어요.\\n\\n6. **신뢰할 수 있는 사람과 이야기하기**: 친구나 가족에게 고민을 털어놓는 것도 큰 도움이 될 수 있습니다. 그들의 시각에서 조언을 받을 수 있어요.\\n\\n걱정은 누구에게나 있는 감정이니, 혼자 끙끙 앓기보다는 다른 사람과 나누고, 조금씩 해결해 나가면 좋을 것 같아요. 희진이의 걱정이 줄어들 수 있길 바랄게!', additional_kwargs={'refusal': None}, response_metadata={'token_usage': {'completion_tokens': 413, 'prompt_tokens': 58, 'total_tokens': 471, 'completion_tokens_details': {'accepted_prediction_tokens': 0, 'audio_tokens': 0, 'reasoning_tokens': 0, 'rejected_prediction_tokens': 0}, 'prompt_tokens_details': {'audio_tokens': 0, 'cached_tokens': 0}}, 'model_name': 'gpt-4o-mini-2024-07-18', 'system_fingerprint': 'fp_34a54ae93c', 'id': 'chatcmpl-BnROfHfVADpoTXVjWJdF8SlNv5gtO', 'service_tier': 'default', 'finish_reason': 'stop', 'logprobs': None}, id='run--258c36f1-30d0-43d1-bd47-d5656ecf1f19-0', usage_metadata={'input_tokens': 58, 'output_tokens': 413, 'total_tokens': 471, 'input_token_details': {'audio': 0, 'cache_read': 0}, 'output_token_details': {'audio': 0, 'reasoning': 0}})"
      ]
     },
     "execution_count": 3,
     "metadata": {},
     "output_type": "execute_result"
    }
   ],
   "source": [
    "from langchain_openai import ChatOpenAI\n",
    "model = ChatOpenAI(model=\"gpt-4o-mini\")\n",
    "\n",
    "from langchain_core.messages import HumanMessage, SystemMessage\n",
    "\n",
    "messages = [\n",
    "    SystemMessage(content= \"너는 현실적으로 고민상담을 해주는 AI야. 고민을 말하면 짧게 해결법을 알려줘\"),\n",
    "    HumanMessage(content= \"안녕 나는 희진이야. 내 고민은 걱정이 너무 많은거야. 어떻게 해야할까?\")\n",
    "]\n",
    "\n",
    "model.invoke(messages)"
   ]
  },
  {
   "cell_type": "code",
   "execution_count": 4,
   "id": "6469f249",
   "metadata": {},
   "outputs": [
    {
     "data": {
      "text/plain": [
       "'안녕 희진! 걱정이 많다는 건 정말 힘든 일이지. 하지만 걱정을 줄이고 마음을 편안하게 하는 방법이 있어. 몇 가지 제안을 해볼게:\\n\\n1. **기록하기**: 걱정하는 생각을 종이에 적어보세요. 이렇게 하면 생각이 더 명확해지고, 정리하는 데 도움이 됩니다.\\n\\n2. **우선순위 정하기**: 걱정거리가 여러 개라면, 가장 우선적으로 해결해야 할 것과 그렇지 않은 것을 구분해 보세요. 이로 인해 무엇에 집중해야 할지를 알 수 있습니다.\\n\\n3. **명상이나 mindfulness**: 짧은 시간 동안 명상을 하거나 호흡 운동을 해보는 것도 좋은 방법이에요. 마음을 차분하게 하고 현재에 집중하는 데 도움이 됩니다.\\n\\n4. **친구와 이야기하기**: 믿을 수 있는 친구나 가족과 고민을 나누면 마음이 한결 가벼워질 수 있어요. 누군가에게 이야기하는 것만으로도 많은 위안을 얻을 수 있습니다.\\n\\n5. **스스로에게 관대해지기**: 완벽하게 해결할 수 없는 것들도 많으니, 스스로에게 너무 엄격하지 않도록 하세요. 나 자신을 긍정적으로 바라보는 것이 중요합니다.\\n\\n결국 중요한 것은 현재 순간에 집중하고, 걱정이 너무 커지지 않게 하는 거예요. 조금씩 시도해 보면서 자신에게 맞는 방법을 찾아보세요!'"
      ]
     },
     "execution_count": 4,
     "metadata": {},
     "output_type": "execute_result"
    }
   ],
   "source": [
    "from langchain_core.output_parsers import StrOutputParser\n",
    "\n",
    "parser = StrOutputParser()\n",
    "\n",
    "result = model.invoke(messages)\n",
    "parser.invoke(result)"
   ]
  },
  {
   "cell_type": "code",
   "execution_count": 5,
   "id": "c2adbed1",
   "metadata": {},
   "outputs": [
    {
     "data": {
      "text/plain": [
       "\"안녕, 희진! 걱정이 많아서 힘든 상황이구나. 걱정을 줄이는 방법에는 여러 가지가 있어. 몇 가지를 소개해볼게.\\n\\n1. **걱정 목록 작성하기**: 걱정되는 것들을 종이에 적어보세요. 시각적으로 확인하면 '무엇이 걱정인지' 명확하게 알 수 있고, 문제를 구체적으로 분석할 수 있어요.\\n\\n2. **우선순위 정하기**: 적어놓은 걱정 중에서 정말 중요한 것과 덜 중요한 것을 구분해보세요. 그렇게 하면 보다 실질적으로 해결할 수 있는 문제에 집중할 수 있습니다.\\n\\n3. **문제 해결 노력하기**: 걱정의 원인을 파악한 후, 그 문제에 대해 해결책을 모색해보세요. 실행 가능한 작은 단계로 나누면 더 쉽게 접근할 수 있습니다.\\n\\n4. **긍정적 생각 하기**: 긍정적인 면을 생각해보세요. 지금까지 잘 해결해온 일들이 많다는 것을 떠올리면 자신감을 가질 수 있습니다.\\n\\n5. **마음의 여유 가지기**: 명상이나 깊은 호흡 연습을 통해 마음을 진정시켜보세요. 짧은 시간이라도 집중해서 숨을 깊게 쉬어보는 것이 도움이 됩니다.\\n\\n6. **전문가에게 상담 받기**: 필요하다면 전문가와 이야기해보는 것도 좋은 방법입니다. 상담을 통해 더 많은 지원과 조언을 받을 수 있어요.\\n\\n어떤 방법이 너에게 가장 적합할지 생각해보고 시도해보길 바래! 필요한 경우 언제든지 이야기해줘.\""
      ]
     },
     "execution_count": 5,
     "metadata": {},
     "output_type": "execute_result"
    }
   ],
   "source": [
    "chain = model | parser # chain 연산자를 이용해서 간단하게 수정\n",
    "chain.invoke(messages)"
   ]
  },
  {
   "cell_type": "code",
   "execution_count": null,
   "id": "4e4ab927",
   "metadata": {},
   "outputs": [
    {
     "name": "stdout",
     "output_type": "stream",
     "text": [
      "messages=[SystemMessage(content='너는 고민을 mbti의 f처럼로 해결해주는 AI야. 이 성격에 맞게 사용자 고민을 해결해주어라.', additional_kwargs={}, response_metadata={}), HumanMessage(content='안녕? 내 고민은 잠이 너무 안와이야. 나에게 잠을 잘 수 있는 비결를 추천해줘.', additional_kwargs={}, response_metadata={})]\n"
     ]
    }
   ],
   "source": [
    "# 프롬프트 템플릿을 이용하면 필요한 부분만 수정해서 실행 가능\n",
    "from langchain_core.prompts import ChatPromptTemplate\n",
    "# 대화 중 만들고 싶은 부분을 대괄호로 감싸고, 변수명 지정\n",
    "system_template = \"너는 고민을 {method} 해결해주는 AI야. 이 성격에 맞게 사용자 고민을 해결해주어라.\"\n",
    "human_template = \"안녕? 내 고민은 {problem}. 나에게 {activity}.\"\n",
    "\n",
    "prompt_template = ChatPromptTemplate([\n",
    "    (\"system\", system_template),\n",
    "    (\"user\", human_template)\n",
    "])\n",
    "\n",
    "result = prompt_template.invoke({\n",
    "    \"method\":  \"mbti의 f처럼\",\n",
    "    \"problem\" : \"잠이 너무 안와\",\n",
    "    \"activity\" : \"잠을 잘 수 있는 비결\"\n",
    "    \n",
    "})\n",
    "\n",
    "print(result)"
   ]
  },
  {
   "cell_type": "code",
   "execution_count": 11,
   "id": "e0d15af4",
   "metadata": {},
   "outputs": [
    {
     "data": {
      "text/plain": [
       "'안녕하세요! 잠이 잘 오지 않는 것은 정말 힘든 일이죠. 마음이 편안해져야 더 쉽게 잠들 수 있으니, 몇 가지 방법을 추천해볼게요.\\n\\n1. **일상 루틴 만들기**: 매일 같은 시간에 잠자리에 가고 일어나는 습관을 들이면 신체 시계가 안정되어 잠이 오기 더 쉬워요.\\n\\n2. **이완 연습**: 잠자기 전에 심호흡이나 명상 같은 이완 기술을 사용해 보세요. 몸과 마음의 긴장을 풀어주면 편안한 상태로 들어가 잠이 잘 올 거예요.\\n\\n3. **전자기기 멀리하기**: 잠자기 한 시간 전에는 스마트폰이나 컴퓨터 사용을 줄여보세요. 블루라이트가 수면을 방해할 수 있으니, 책을 읽거나 음악을 듣는 편이 나을 거예요.\\n\\n4. **편안한 환경 조성**: 침실을 어두운 색으로 꾸미고, 시원하고 조용한 환경을 만들어보세요. 편안한 침구도 중요한 요소랍니다.\\n\\n5. **마음 정리하기**: 잠자리에 들기 전에 그날 있었던 생각이나 감정을 정리해보세요. 감사한 일이나 긍정적인 사건을 생각하며 마음을 가라앉히는 것도 좋습니다.\\n\\n이런 방법들을 시도해보면서 자신에게 맞는 방법을 찾아보세요. 편안한 밤이 되기를 바랄게요! 🌙✨'"
      ]
     },
     "execution_count": 11,
     "metadata": {},
     "output_type": "execute_result"
    }
   ],
   "source": [
    "chain = prompt_template | model | parser \n",
    "chain.invoke({\n",
    "    \"method\":  \"mbti의 f처럼\",\n",
    "    \"problem\" : \"잠이 너무 안와\",\n",
    "    \"activity\" : \"잠을 잘 수 있는 비결\"\n",
    "})"
   ]
  }
 ],
 "metadata": {
  "kernelspec": {
   "display_name": "venv",
   "language": "python",
   "name": "python3"
  },
  "language_info": {
   "codemirror_mode": {
    "name": "ipython",
    "version": 3
   },
   "file_extension": ".py",
   "mimetype": "text/x-python",
   "name": "python",
   "nbconvert_exporter": "python",
   "pygments_lexer": "ipython3",
   "version": "3.10.8"
  }
 },
 "nbformat": 4,
 "nbformat_minor": 5
}
